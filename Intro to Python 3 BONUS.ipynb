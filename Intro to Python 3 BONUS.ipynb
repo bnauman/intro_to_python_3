{
 "cells": [
  {
   "cell_type": "markdown",
   "metadata": {
    "deletable": true,
    "editable": true
   },
   "source": [
    "# Intro to Python 3: Bonus\n",
    "### Scrape from multiple pages\n",
    "\n",
    "Below are the relevant portions of our last script with some added comments. We're going to add a step to the scraping of each row in the table: step through the link to the individual reactor page and collect additional data for the CSV.\n",
    "\n",
    "The difficulty here is that we need to pull data from a paragraph of text; we'll break the paragraph apart into a list of its component lines and then isolate the data from those. We'll also do it with a function so that we don't have to write the same code repeatedly."
   ]
  },
  {
   "cell_type": "code",
   "execution_count": 1,
   "metadata": {
    "collapsed": true,
    "deletable": true,
    "editable": true
   },
   "outputs": [],
   "source": [
    "import requests\n",
    "from bs4 import BeautifulSoup\n",
    "import unicodecsv as csv\n",
    "import time"
   ]
  },
  {
   "cell_type": "markdown",
   "metadata": {
    "deletable": true,
    "editable": true
   },
   "source": [
    "The function we're going to write and what it does:\n",
    "```python\n",
    "def finder(list_to_search, term): # take two arguments: a list and a search string\n",
    "    for item in list_to_search: # loop through each item in the list\n",
    "        if term.upper() in item.upper(): # if the search string appears in the list item ...\n",
    "            return item.split(':')[1].strip() # ... then return the part that appears AFTER the colon\n",
    "```"
   ]
  },
  {
   "cell_type": "code",
   "execution_count": 2,
   "metadata": {
    "collapsed": true,
    "deletable": true,
    "editable": true
   },
   "outputs": [],
   "source": [
    "# text-finding function goes here\n"
   ]
  },
  {
   "cell_type": "code",
   "execution_count": 3,
   "metadata": {
    "collapsed": true,
    "deletable": true,
    "editable": true
   },
   "outputs": [],
   "source": [
    "url = \"http://www.nrc.gov/reactors/operating/list-power-reactor-units.html\"\n",
    "main_page = requests.get(url)\n",
    "soup = BeautifulSoup(main_page.content, 'html.parser')\n",
    "\n",
    "reactors_table = soup.find('table')"
   ]
  },
  {
   "cell_type": "code",
   "execution_count": 4,
   "metadata": {
    "collapsed": false,
    "deletable": true,
    "editable": true
   },
   "outputs": [],
   "source": [
    "scraped = []\n",
    "\n",
    "for row in reactors_table.find_all('tr')[1:]:\n",
    "    cells = row.find_all('td')\n",
    "    reactor_name = cells[0].contents[0].text\n",
    "    link = 'http://www.nrc.gov' + cells[0].contents[0].get('href')\n",
    "    docket = cells[0].contents[2]\n",
    "    license = cells[1].text\n",
    "    reactor_type = cells[2].text\n",
    "    location = cells[3].text\n",
    "    owner = cells[4].text\n",
    "    region = cells[5].text\n",
    "    # add steps to the loop here\n",
    "    # get the individual reactor page with requests\n",
    "    \n",
    "    # run the response through BeautifulSoup so that it can be navigated\n",
    "    \n",
    "    # isolate the table cell with the text we want to pick over and then split it up on line breaks\n",
    "    \n",
    "    # use the new function to grab the megawattage, vendor and containment type\n",
    "    \n",
    "    # print an informational status message to yourself\n",
    "    \n",
    "    # add these to the list that will ultimately be written to CSV\n",
    "    \n",
    "    scraped.append([reactor_name, link, docket, license, reactor_type, location, owner, region])\n",
    "    # IMPORTANT: pause for a couple of seconds between page requests\n",
    "    "
   ]
  },
  {
   "cell_type": "code",
   "execution_count": 5,
   "metadata": {
    "collapsed": true,
    "deletable": true,
    "editable": true
   },
   "outputs": [],
   "source": [
    "with open('reactor_data.csv', 'wb') as outfile:\n",
    "    writer = csv.writer(outfile)\n",
    "    # add the new columns to the header row\n",
    "    writer.writerow(['reactor_name', 'link', 'docket', 'license', 'reactor_type', 'location', 'owner', 'region'])\n",
    "    writer.writerows(scraped)"
   ]
  }
 ],
 "metadata": {
  "kernelspec": {
   "display_name": "Python 2",
   "language": "python",
   "name": "python2"
  },
  "language_info": {
   "codemirror_mode": {
    "name": "ipython",
    "version": 2
   },
   "file_extension": ".py",
   "mimetype": "text/x-python",
   "name": "python",
   "nbconvert_exporter": "python",
   "pygments_lexer": "ipython2",
   "version": "2.7.13"
  }
 },
 "nbformat": 4,
 "nbformat_minor": 2
}
